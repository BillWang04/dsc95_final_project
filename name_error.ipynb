{
 "cells": [
  {
   "cell_type": "markdown",
   "metadata": {},
   "source": [
    "# Common DSC10 Python Errors\n",
    "\n",
    "## Introduction\n",
    "\n",
    "In programming, encountering errors is inevitable. Understanding and resolving these errors is a crucial skill for any Python developer. This Jupyter Notebook serves as a guide to common Python errors, providing explanations and solutions to help you navigate and troubleshoot issues effectively.\n",
    "\n",
    "## Table of Contents\n",
    "\n",
    "1. [Syntax Errors](#syntax-errors)\n",
    "2. [Indentation Errors](#indentation-errors)\n",
    "3. [NameError](#nameerror)\n",
    "4. [TypeError](#typeerror)\n",
    "5. [IndexError](#indexerror)\n",
    "6. [KeyError](#keyerror)\n",
    "7. [ValueError](#valueerror)\n",
    "8. [FileNotFoundError](#filenotfounderror)\n",
    "9. [ModuleNotFoundError](#modulenotfounderror)\n",
    "10. [AttributeError](#attributeerror)\n",
    "11. [ZeroDivisionError](#zerodivisionerror)\n",
    "12. [ImportError](#importerror)"
   ]
  },
  {
   "cell_type": "markdown",
   "metadata": {
    "tags": [
     "#syntax-errors"
    ]
   },
   "source": [
    "## 1. Syntax Errors\n",
    "\n",
    "Syntax errors occur when the code violates the rules of the Python language. This is like the grammer of the code \n",
    "\n",
    "Example:\n",
    "```python\n",
    "print(\"Hello, World!\""
   ]
  },
  {
   "cell_type": "markdown",
   "metadata": {},
   "source": []
  }
 ],
 "metadata": {
  "language_info": {
   "name": "python"
  }
 },
 "nbformat": 4,
 "nbformat_minor": 2
}
