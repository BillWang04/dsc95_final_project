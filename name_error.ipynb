{
 "cells": [
  {
   "cell_type": "markdown",
   "metadata": {},
   "source": [
    "# Common DSC10 Python Errors\n",
    "\n",
    "## Introduction\n",
    "\n",
    "In programming, encountering errors is inevitable. Understanding and resolving these errors is a crucial skill for any Python developer. This Jupyter Notebook serves as a guide to common Python errors, providing explanations and solutions to help you navigate and troubleshoot issues effectively.\n",
    "\n",
    "## Table of Contents\n",
    "\n",
    "1. [Syntax Errors](#syntax-errors)\n",
    "2. [Indentation Errors](#indentation-errors)\n",
    "3. [NameError](#nameerror)\n",
    "4. [TypeError](#typeerror)\n",
    "5. [IndexError](#indexerror)\n",
    "6. [KeyError](#keyerror)\n",
    "7. [ValueError](#valueerror)\n",
    "8. [AttributeError](#attributeerror)"
   ]
  },
  {
   "cell_type": "markdown",
   "metadata": {},
   "source": [
    "Run the following code two import libraries that are needed"
   ]
  },
  {
   "cell_type": "code",
   "execution_count": 6,
   "metadata": {},
   "outputs": [],
   "source": [
    "import numpy as np\n",
    "import pandas as bpd"
   ]
  },
  {
   "cell_type": "markdown",
   "metadata": {
    "tags": [
     "#syntax-errors"
    ]
   },
   "source": [
    "### 1. Syntax Errors\n",
    "\n",
    "Syntax errors occur when the code violates the rules of the Python language. This is like the grammer of the code \n",
    "\n",
    "Example:\n",
    "```python\n",
    "print(\"Hello, World!\""
   ]
  },
  {
   "cell_type": "markdown",
   "metadata": {},
   "source": []
  },
  {
   "cell_type": "markdown",
   "metadata": {
    "tags": [
     "#indentation-errors"
    ]
   },
   "source": [
    "\n",
    "### 2. Indentation Errors\n",
    "\n",
    "Indentation errors occur when there is incorrect indentation in the code. Python uses indentation to define blocks of code, and inconsistent indentation can lead to errors.\n",
    "\n",
    "### Example\n",
    "\n",
    "```python\n",
    "def example_function():\n",
    "print(\"Indented incorrectly\")\n"
   ]
  },
  {
   "cell_type": "markdown",
   "metadata": {},
   "source": []
  },
  {
   "cell_type": "markdown",
   "metadata": {},
   "source": [
    "\n",
    "### 3. NameError\n",
    "\n",
    "NameError occurs when you try to use a variable or function that is not defined in the current scope.\n",
    "\n",
    "### Example\n",
    "\n",
    "```python\n",
    "print(undefined_variable)\n"
   ]
  },
  {
   "cell_type": "markdown",
   "metadata": {},
   "source": []
  },
  {
   "cell_type": "markdown",
   "metadata": {},
   "source": [
    "\n",
    "### 4. TypeError\n",
    "\n",
    "TypeError occurs when there is an inappropriate use of a data type, such as trying to perform an operation on incompatible types.\n",
    "\n",
    "### Example\n",
    "\n",
    "```python\n",
    "result = \"5\" + 3\n"
   ]
  },
  {
   "cell_type": "markdown",
   "metadata": {},
   "source": []
  },
  {
   "cell_type": "markdown",
   "metadata": {},
   "source": [
    "\n",
    "### 5. IndexError\n",
    "\n",
    "IndexError occurs when trying to access an index that does not exist in a sequence (e.g., list, tuple). This usually happens when people\n",
    "\n",
    "### Example\n",
    "\n",
    "```python\n",
    "my_list = [1, 2, 3]\n",
    "print(my_list[4])\n",
    "#or\n",
    "for i in range(4):\n",
    "    print(my_list[i])\n"
   ]
  },
  {
   "cell_type": "markdown",
   "metadata": {},
   "source": []
  },
  {
   "cell_type": "markdown",
   "metadata": {},
   "source": [
    "\n",
    "### 6. KeyError\n",
    "\n",
    "KeyError occurs when trying to access a dictionary key that does not exist.\n",
    "\n",
    "### Example\n",
    "\n",
    "```python\n",
    "my_dict = {'key': 'value'}\n",
    "print(my_dict['nonexistent_key'])\n"
   ]
  },
  {
   "cell_type": "markdown",
   "metadata": {},
   "source": []
  },
  {
   "cell_type": "markdown",
   "metadata": {},
   "source": [
    "\n",
    "### 7. ValueError\n",
    "\n",
    "ValueError is raised when a function receives an argument of the correct type but an inappropriate value.\n",
    "\n",
    "### Example\n",
    "\n",
    "```python\n",
    "int(\"abc\")\n"
   ]
  },
  {
   "cell_type": "markdown",
   "metadata": {},
   "source": [
    "\n",
    "### 8. AttributeError\n",
    "\n",
    "AttributeError occurs when trying to access an attribute that does not exist in an object.\n",
    "\n",
    "### Example\n",
    "\n",
    "```python\n",
    "my_list = [1, 2, 3]\n",
    "my_list.upper()\n"
   ]
  },
  {
   "cell_type": "markdown",
   "metadata": {},
   "source": []
  },
  {
   "cell_type": "code",
   "execution_count": null,
   "metadata": {},
   "outputs": [],
   "source": []
  }
 ],
 "metadata": {
  "kernelspec": {
   "display_name": "dsc80",
   "language": "python",
   "name": "python3"
  },
  "language_info": {
   "codemirror_mode": {
    "name": "ipython",
    "version": 3
   },
   "file_extension": ".py",
   "mimetype": "text/x-python",
   "name": "python",
   "nbconvert_exporter": "python",
   "pygments_lexer": "ipython3",
   "version": "3.8.18"
  }
 },
 "nbformat": 4,
 "nbformat_minor": 2
}
