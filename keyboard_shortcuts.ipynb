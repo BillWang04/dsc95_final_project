{
 "cells": [
  {
   "cell_type": "markdown",
   "metadata": {},
   "source": [
    "# DSC 10 Python and Jupyter Notebook Keyboard Shortcuts\n",
    "\n",
    "## Introduction\n",
    "\n",
    "Welcome to this Jupyter Notebook guide on Python and Jupyter Notebook keyboard shortcuts. Keyboard shortcuts are an essential aspect of efficient coding and navigating Jupyter Notebooks. Whether you are a beginner or an experienced developer, mastering these shortcuts can significantly enhance your productivity.\n",
    "\n",
    "### Python Keyboard Shortcuts\n",
    "\n",
    "In the first section of this notebook, we will explore fundamental Python keyboard shortcuts that can streamline your coding workflow in various Python environments. These shortcuts include essential commands for code execution, navigation, and debugging.\n",
    "\n",
    "\n",
    "- **Get quotations around text**: Highlighting and press ‘ or “\n",
    "- **Get parentheses around text**: Highlight and press (\n",
    "- **Get brackets around text**: Highlight and press [\n",
    "- **Comment out**: `cmd /`\n",
    "- **Indent multiple lines at once**: `cmd ]` for left `cmd [` for right\n",
    "- **Highlight the same text multiple times**: Highlight and `cmd d` the amount of times you want to highlight\n",
    "- **Google doc commands** (`cmd v`, `cmd c`, `cmd x`, `cmd a`, shift-click)\n",
    "- Not a shortcut, but **find and replace in Jupyter** is helpful\n",
    "- **Copy line**: `cmd c`\n",
    "\n",
    "### Jupyter Notebook Keyboard Shortcuts\n",
    "\n",
    "The second section focuses on keyboard shortcuts specific to Jupyter Notebooks. Jupyter provides a powerful interactive computing environment, and learning its keyboard shortcuts can make your data exploration, analysis, and visualization tasks more fluid. From executing cells to managing your notebook's structure, these shortcuts are designed to boost your efficiency.\n",
    "\n",
    "**Command Mode**\n",
    "\n",
    "- **Go to edit a cell**: Enter\n",
    "- **Run current cell**: `shift enter`\n",
    "- **Create cell below**: `a`\n",
    "- **Create cell above**: `b`\n",
    "- **Delete cell**: `dd`\n",
    "- **Cut Current cell**: `x`\n",
    "- **Copy current cell**: `c`\n",
    "- **Paste cell below**: `v`\n",
    "- **Paste cell above**: `V`\n",
    "- `?` after a function such as numpy or pandas to see what the function does or how to use it (like documentation)\n",
    "\n",
    "**Edit Mode**\n",
    "\n",
    "- **Go to command mode**: Escape\n",
    "\n",
    "### Usage\n",
    "\n",
    "- Navigate through the notebook sections to find Python and Jupyter Notebook keyboard shortcuts.\n",
    "- Each section provides a detailed overview of the shortcuts along with examples.\n",
    "- Experiment with the shortcuts in your own coding and notebook environment to reinforce your learning.\n",
    "\n",
    "\n"
   ]
  },
  {
   "cell_type": "code",
   "execution_count": 1,
   "metadata": {},
   "outputs": [],
   "source": [
    "import pandas as bpd\n",
    "import numpy as np"
   ]
  },
  {
   "cell_type": "markdown",
   "metadata": {},
   "source": [
    "**Get quotations around text**: Highlighting and press ‘ or “\n"
   ]
  },
  {
   "cell_type": "code",
   "execution_count": 9,
   "metadata": {},
   "outputs": [
    {
     "name": "stdout",
     "output_type": "stream",
     "text": [
      "'your text here'\n"
     ]
    }
   ],
   "source": [
    "highlighted_text = \"your text here\"\n",
    "highlighted_text_with_quotes = f'\\'{highlighted_text}\\''\n",
    "print(highlighted_text_with_quotes)"
   ]
  },
  {
   "cell_type": "markdown",
   "metadata": {},
   "source": [
    "**Get parentheses around text**: Highlight 'your text here' and press `(`"
   ]
  },
  {
   "cell_type": "code",
   "execution_count": 10,
   "metadata": {},
   "outputs": [
    {
     "name": "stdout",
     "output_type": "stream",
     "text": [
      "your text here\n"
     ]
    }
   ],
   "source": [
    "highlighted_text = \"your text here\"\n",
    "highlighted_text_with_parentheses = f'{highlighted_text}'\n",
    "print(highlighted_text_with_parentheses)"
   ]
  },
  {
   "cell_type": "markdown",
   "metadata": {},
   "source": [
    "**Get brackets around text**: Highlight and press ["
   ]
  },
  {
   "cell_type": "code",
   "execution_count": 11,
   "metadata": {},
   "outputs": [
    {
     "name": "stdout",
     "output_type": "stream",
     "text": [
      "your text here\n"
     ]
    }
   ],
   "source": [
    "highlighted_text = \"your text here\"\n",
    "highlighted_text_with_brackets = f'{highlighted_text}'\n",
    "print(highlighted_text_with_brackets)\n"
   ]
  },
  {
   "cell_type": "markdown",
   "metadata": {},
   "source": [
    "**Comment out**: comment out this piece of code using `cmd /`"
   ]
  },
  {
   "cell_type": "code",
   "execution_count": 8,
   "metadata": {},
   "outputs": [
    {
     "name": "stdout",
     "output_type": "stream",
     "text": [
      "Pizza\n",
      "Chicken\n",
      "Orange\n"
     ]
    }
   ],
   "source": [
    "for i in ['Pizza', \"Chicken\", \"Orange\"]:\n",
    "    print(i)"
   ]
  },
  {
   "cell_type": "markdown",
   "metadata": {},
   "source": [
    "**Indent multiple lines at once**: `cmd ]` for left `cmd [` for right\n"
   ]
  },
  {
   "cell_type": "code",
   "execution_count": 12,
   "metadata": {},
   "outputs": [],
   "source": [
    "def indented_function():\n",
    "    print(\"This is indented\")\n",
    "\n",
    "# Press cmd ] to indent to the left\n",
    "# Press cmd [ to indent to the right\n"
   ]
  },
  {
   "cell_type": "markdown",
   "metadata": {},
   "source": [
    "**Highlight the same text multiple times**: Highlight and `cmd d` the amount of times you want to highlight. Change the variable name arr to a more fitting name\n"
   ]
  },
  {
   "cell_type": "code",
   "execution_count": 13,
   "metadata": {},
   "outputs": [],
   "source": [
    "arr = np.array(['cow'])\n",
    "arr = np.append(arr, 'chicken')\n",
    "arr = np.append(arr, 'pig')\n",
    "arr = np.append(arr, 'sheep')\n"
   ]
  },
  {
   "cell_type": "code",
   "execution_count": null,
   "metadata": {},
   "outputs": [],
   "source": []
  }
 ],
 "metadata": {
  "kernelspec": {
   "display_name": "dsc80",
   "language": "python",
   "name": "python3"
  },
  "language_info": {
   "codemirror_mode": {
    "name": "ipython",
    "version": 3
   },
   "file_extension": ".py",
   "mimetype": "text/x-python",
   "name": "python",
   "nbconvert_exporter": "python",
   "pygments_lexer": "ipython3",
   "version": "3.8.18"
  }
 },
 "nbformat": 4,
 "nbformat_minor": 2
}
