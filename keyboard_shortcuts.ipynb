{
 "cells": [
  {
   "cell_type": "markdown",
   "metadata": {},
   "source": [
    "# DSC 10 Python and Jupyter Notebook Keyboard Shortcuts\n",
    "\n",
    "## Introduction\n",
    "\n",
    "Welcome to this Jupyter Notebook guide on Python and Jupyter Notebook keyboard shortcuts. Keyboard shortcuts are an essential aspect of efficient coding and navigating Jupyter Notebooks. Whether you are a beginner or an experienced developer, mastering these shortcuts can significantly enhance your productivity.\n",
    "\n",
    "### Python Keyboard Shortcuts\n",
    "\n",
    "In the first section of this notebook, we will explore fundamental Python keyboard shortcuts that can streamline your coding workflow in various Python environments. These shortcuts include essential commands for code execution, navigation, and debugging.\n",
    "\n",
    "\n",
    "- **Get quotations around text**: Highlighting and press ‘ or “\n",
    "- **Get parentheses around text**: Highlight and press (\n",
    "- **Get brackets around text**: Highlight and press [\n",
    "- **Comment out**: `cmd /`\n",
    "- **Indent multiple lines at once**: `cmd ]` for left `cmd [` for right\n",
    "- **Highlight the same text multiple times**: Highlight and `cmd d` the amount of times you want to highlight\n",
    "- **Google doc commands** (`cmd v`, `cmd c`, `cmd x`, `cmd a`, shift-click)\n",
    "- Not a shortcut, but **find and replace in Jupyter** is helpful\n",
    "- **Copy line**: `cmd c`\n",
    "\n",
    "### Jupyter Notebook Keyboard Shortcuts\n",
    "\n",
    "The second section focuses on keyboard shortcuts specific to Jupyter Notebooks. Jupyter provides a powerful interactive computing environment, and learning its keyboard shortcuts can make your data exploration, analysis, and visualization tasks more fluid. From executing cells to managing your notebook's structure, these shortcuts are designed to boost your efficiency.\n",
    "\n",
    "**Command Mode**\n",
    "\n",
    "- **Go to edit a cell**: Enter\n",
    "- **Run current cell**: `shift enter`\n",
    "- **Create cell below**: `a`\n",
    "- **Create cell above**: `b`\n",
    "- **Delete cell**: `dd`\n",
    "- **Cut Current cell**: `x`\n",
    "- **Copy current cell**: `c`\n",
    "- **Paste cell below**: `v`\n",
    "- **Paste cell above**: `V`\n",
    "- `?` after a function such as numpy or pandas to see what the function does or how to use it (like documentation)\n",
    "\n",
    "**Edit Mode**\n",
    "\n",
    "- **Go to command mode**: Escape\n",
    "\n",
    "### Usage\n",
    "\n",
    "- Navigate through the notebook sections to find Python and Jupyter Notebook keyboard shortcuts.\n",
    "- Each section provides a detailed overview of the shortcuts along with examples.\n",
    "- Experiment with the shortcuts in your own coding and notebook environment to reinforce your learning.\n",
    "\n",
    "\n"
   ]
  },
  {
   "cell_type": "code",
   "execution_count": 1,
   "metadata": {},
   "outputs": [],
   "source": [
    "import pandas as bpd\n",
    "import numpy as np"
   ]
  },
  {
   "cell_type": "markdown",
   "metadata": {},
   "source": [
    "### Python Keyboard Shortcuts\n",
    "\n",
    "In the first section of this notebook, we will explore fundamental Python keyboard shortcuts that can streamline your coding workflow in various Python environments. These shortcuts include essential commands for code execution, navigation, and debugging."
   ]
  },
  {
   "cell_type": "markdown",
   "metadata": {},
   "source": [
    "**Get quotations around text**: Highlighting and press ‘ or “\n"
   ]
  },
  {
   "cell_type": "code",
   "execution_count": 9,
   "metadata": {},
   "outputs": [
    {
     "name": "stdout",
     "output_type": "stream",
     "text": [
      "'your text here'\n"
     ]
    }
   ],
   "source": [
    "highlighted_text = \"your text here\"\n",
    "highlighted_text_with_quotes = f'\\'{highlighted_text}\\''\n",
    "print(highlighted_text_with_quotes)"
   ]
  },
  {
   "cell_type": "markdown",
   "metadata": {},
   "source": [
    "**Get parentheses around text**: Highlight 'your text here' and press `(`"
   ]
  },
  {
   "cell_type": "code",
   "execution_count": 10,
   "metadata": {},
   "outputs": [
    {
     "name": "stdout",
     "output_type": "stream",
     "text": [
      "your text here\n"
     ]
    }
   ],
   "source": [
    "highlighted_text = \"your text here\"\n",
    "highlighted_text_with_parentheses = f'{highlighted_text}'\n",
    "print(highlighted_text_with_parentheses)"
   ]
  },
  {
   "cell_type": "markdown",
   "metadata": {},
   "source": [
    "**Get brackets around text**: Highlight and press ["
   ]
  },
  {
   "cell_type": "code",
   "execution_count": 11,
   "metadata": {},
   "outputs": [
    {
     "name": "stdout",
     "output_type": "stream",
     "text": [
      "your text here\n"
     ]
    }
   ],
   "source": [
    "highlighted_text = \"your text here\"\n",
    "highlighted_text_with_brackets = f'{highlighted_text}'\n",
    "print(highlighted_text_with_brackets)\n"
   ]
  },
  {
   "cell_type": "markdown",
   "metadata": {},
   "source": [
    "**Comment out**: comment out this piece of code using `cmd /`"
   ]
  },
  {
   "cell_type": "code",
   "execution_count": 8,
   "metadata": {},
   "outputs": [
    {
     "name": "stdout",
     "output_type": "stream",
     "text": [
      "Pizza\n",
      "Chicken\n",
      "Orange\n"
     ]
    }
   ],
   "source": [
    "for i in ['Pizza', \"Chicken\", \"Orange\"]:\n",
    "    print(i)"
   ]
  },
  {
   "cell_type": "markdown",
   "metadata": {},
   "source": [
    "**Indent multiple lines at once**: `cmd ]` for left `cmd [` for right\n"
   ]
  },
  {
   "cell_type": "code",
   "execution_count": 12,
   "metadata": {},
   "outputs": [],
   "source": [
    "def indented_function():\n",
    "for i in range(10):\n",
    "for i in range(10):\n",
    "print(\"This is indented\")\n",
    "\n",
    "# Press cmd ] to indent to the left\n",
    "# Press cmd [ to indent to the right\n"
   ]
  },
  {
   "cell_type": "markdown",
   "metadata": {},
   "source": [
    "**Highlight the same text multiple times**: Highlight and `cmd d` the amount of times you want to highlight. Change the variable name `value` to a more fitting name\n"
   ]
  },
  {
   "cell_type": "code",
   "execution_count": 13,
   "metadata": {},
   "outputs": [],
   "source": [
    "value = np.array(['cow'])\n",
    "value = np.append(value, 'chicken')\n",
    "value = np.append(value, 'pig')\n",
    "value = np.append(value, 'sheep')\n"
   ]
  },
  {
   "cell_type": "markdown",
   "metadata": {},
   "source": [
    "### Jupyter Notebook Keyboard Shortcuts\n",
    "\n",
    "The second section focuses on keyboard shortcuts specific to Jupyter Notebooks. Jupyter provides a powerful interactive computing environment, and learning its keyboard shortcuts can make your data exploration, analysis, and visualization tasks more fluid. From executing cells to managing your notebook's structure, these shortcuts are designed to boost your efficiency.\n",
    "\n",
    "#### Command Mode Shortcuts\n",
    "\n",
    "- **Go to edit a cell (Enter):** To modify the content of a cell, press `Enter` when the cell is selected in command mode. This allows you to edit the cell's contents, whether it's code or text.\n",
    "\n",
    "- **Run current cell (`Shift + Enter`):** Execute the code within the current cell by pressing `Shift + Enter`. This action runs the cell and moves to the next one, allowing for a smooth flow while working through your notebook.\n",
    "\n",
    "... (other command mode shortcuts, formatting, and descriptions) ...\n",
    "\n",
    "#### Edit Mode Shortcut\n",
    "\n",
    "- **Go to command mode (Escape):** To exit edit mode and switch back to command mode, press the `Escape` key. This allows you to navigate the notebook's structure without editing the content of a cell.\n",
    "\n",
    "Try these shortcuts out and the oens above in the following cells to see how they work:\n"
   ]
  },
  {
   "cell_type": "code",
   "execution_count": 1,
   "metadata": {},
   "outputs": [
    {
     "name": "stdout",
     "output_type": "stream",
     "text": [
      "New cell added below\n"
     ]
    }
   ],
   "source": [
    "# Try out the 'Create cell below' shortcut\n",
    "# Press 'A' in command mode to insert a new cell below this one\n",
    "print(\"New cell added below\")"
   ]
  },
  {
   "cell_type": "markdown",
   "metadata": {},
   "source": [
    "**Function Documentation (?)**: Append `?` after a function name, such as `NumPy` or `Pandas` functions, to access their documentation and understand their usage."
   ]
  },
  {
   "cell_type": "code",
   "execution_count": 3,
   "metadata": {},
   "outputs": [
    {
     "name": "stdout",
     "output_type": "stream",
     "text": [
      "\u001b[0;31mSignature:\u001b[0m\n",
      "\u001b[0mnp\u001b[0m\u001b[0;34m.\u001b[0m\u001b[0mmean\u001b[0m\u001b[0;34m(\u001b[0m\u001b[0;34m\u001b[0m\n",
      "\u001b[0;34m\u001b[0m    \u001b[0ma\u001b[0m\u001b[0;34m,\u001b[0m\u001b[0;34m\u001b[0m\n",
      "\u001b[0;34m\u001b[0m    \u001b[0maxis\u001b[0m\u001b[0;34m=\u001b[0m\u001b[0;32mNone\u001b[0m\u001b[0;34m,\u001b[0m\u001b[0;34m\u001b[0m\n",
      "\u001b[0;34m\u001b[0m    \u001b[0mdtype\u001b[0m\u001b[0;34m=\u001b[0m\u001b[0;32mNone\u001b[0m\u001b[0;34m,\u001b[0m\u001b[0;34m\u001b[0m\n",
      "\u001b[0;34m\u001b[0m    \u001b[0mout\u001b[0m\u001b[0;34m=\u001b[0m\u001b[0;32mNone\u001b[0m\u001b[0;34m,\u001b[0m\u001b[0;34m\u001b[0m\n",
      "\u001b[0;34m\u001b[0m    \u001b[0mkeepdims\u001b[0m\u001b[0;34m=\u001b[0m\u001b[0;34m<\u001b[0m\u001b[0mno\u001b[0m \u001b[0mvalue\u001b[0m\u001b[0;34m>\u001b[0m\u001b[0;34m,\u001b[0m\u001b[0;34m\u001b[0m\n",
      "\u001b[0;34m\u001b[0m    \u001b[0;34m*\u001b[0m\u001b[0;34m,\u001b[0m\u001b[0;34m\u001b[0m\n",
      "\u001b[0;34m\u001b[0m    \u001b[0mwhere\u001b[0m\u001b[0;34m=\u001b[0m\u001b[0;34m<\u001b[0m\u001b[0mno\u001b[0m \u001b[0mvalue\u001b[0m\u001b[0;34m>\u001b[0m\u001b[0;34m,\u001b[0m\u001b[0;34m\u001b[0m\n",
      "\u001b[0;34m\u001b[0m\u001b[0;34m)\u001b[0m\u001b[0;34m\u001b[0m\u001b[0;34m\u001b[0m\u001b[0m\n",
      "\u001b[0;31mDocstring:\u001b[0m\n",
      "Compute the arithmetic mean along the specified axis.\n",
      "\n",
      "Returns the average of the array elements.  The average is taken over\n",
      "the flattened array by default, otherwise over the specified axis.\n",
      "`float64` intermediate and return values are used for integer inputs.\n",
      "\n",
      "Parameters\n",
      "----------\n",
      "a : array_like\n",
      "    Array containing numbers whose mean is desired. If `a` is not an\n",
      "    array, a conversion is attempted.\n",
      "axis : None or int or tuple of ints, optional\n",
      "    Axis or axes along which the means are computed. The default is to\n",
      "    compute the mean of the flattened array.\n",
      "\n",
      "    .. versionadded:: 1.7.0\n",
      "\n",
      "    If this is a tuple of ints, a mean is performed over multiple axes,\n",
      "    instead of a single axis or all the axes as before.\n",
      "dtype : data-type, optional\n",
      "    Type to use in computing the mean.  For integer inputs, the default\n",
      "    is `float64`; for floating point inputs, it is the same as the\n",
      "    input dtype.\n",
      "out : ndarray, optional\n",
      "    Alternate output array in which to place the result.  The default\n",
      "    is ``None``; if provided, it must have the same shape as the\n",
      "    expected output, but the type will be cast if necessary.\n",
      "    See :ref:`ufuncs-output-type` for more details.\n",
      "\n",
      "keepdims : bool, optional\n",
      "    If this is set to True, the axes which are reduced are left\n",
      "    in the result as dimensions with size one. With this option,\n",
      "    the result will broadcast correctly against the input array.\n",
      "\n",
      "    If the default value is passed, then `keepdims` will not be\n",
      "    passed through to the `mean` method of sub-classes of\n",
      "    `ndarray`, however any non-default value will be.  If the\n",
      "    sub-class' method does not implement `keepdims` any\n",
      "    exceptions will be raised.\n",
      "\n",
      "where : array_like of bool, optional\n",
      "    Elements to include in the mean. See `~numpy.ufunc.reduce` for details.\n",
      "\n",
      "    .. versionadded:: 1.20.0\n",
      "\n",
      "Returns\n",
      "-------\n",
      "m : ndarray, see dtype parameter above\n",
      "    If `out=None`, returns a new array containing the mean values,\n",
      "    otherwise a reference to the output array is returned.\n",
      "\n",
      "See Also\n",
      "--------\n",
      "average : Weighted average\n",
      "std, var, nanmean, nanstd, nanvar\n",
      "\n",
      "Notes\n",
      "-----\n",
      "The arithmetic mean is the sum of the elements along the axis divided\n",
      "by the number of elements.\n",
      "\n",
      "Note that for floating-point input, the mean is computed using the\n",
      "same precision the input has.  Depending on the input data, this can\n",
      "cause the results to be inaccurate, especially for `float32` (see\n",
      "example below).  Specifying a higher-precision accumulator using the\n",
      "`dtype` keyword can alleviate this issue.\n",
      "\n",
      "By default, `float16` results are computed using `float32` intermediates\n",
      "for extra precision.\n",
      "\n",
      "Examples\n",
      "--------\n",
      ">>> a = np.array([[1, 2], [3, 4]])\n",
      ">>> np.mean(a)\n",
      "2.5\n",
      ">>> np.mean(a, axis=0)\n",
      "array([2., 3.])\n",
      ">>> np.mean(a, axis=1)\n",
      "array([1.5, 3.5])\n",
      "\n",
      "In single precision, `mean` can be inaccurate:\n",
      "\n",
      ">>> a = np.zeros((2, 512*512), dtype=np.float32)\n",
      ">>> a[0, :] = 1.0\n",
      ">>> a[1, :] = 0.1\n",
      ">>> np.mean(a)\n",
      "0.54999924\n",
      "\n",
      "Computing the mean in float64 is more accurate:\n",
      "\n",
      ">>> np.mean(a, dtype=np.float64)\n",
      "0.55000000074505806 # may vary\n",
      "\n",
      "Specifying a where argument:\n",
      "\n",
      ">>> a = np.array([[5, 9, 13], [14, 10, 12], [11, 15, 19]])\n",
      ">>> np.mean(a)\n",
      "12.0\n",
      ">>> np.mean(a, where=[[True], [False], [False]])\n",
      "9.0\n",
      "\u001b[0;31mFile:\u001b[0m      ~/anaconda3/envs/dsc80/lib/python3.8/site-packages/numpy/core/fromnumeric.py\n",
      "\u001b[0;31mType:\u001b[0m      function"
     ]
    }
   ],
   "source": [
    "# Try accessing NumPy's documentation for a function\n",
    "import numpy as np\n",
    "\n",
    "np.mean?"
   ]
  },
  {
   "cell_type": "markdown",
   "metadata": {},
   "source": [
    "### Conclusion\n",
    "\n",
    "Congratulations on completing this guide to Python and Jupyter Notebook keyboard shortcuts! By familiarizing yourself with these essential commands, you've taken a significant step towards enhancing your coding efficiency and productivity.\n",
    "\n",
    "Remember, mastering these shortcuts takes practice. Use them regularly in your coding and notebook tasks to reinforce your learning and make them an integral part of your workflow.\n",
    "\n",
    "As you continue your journey in Python programming and data analysis using Jupyter Notebooks, keep exploring additional shortcuts and functionalities to further streamline your work.\n",
    "\n",
    "Feel free to refer back to this guide whenever you need a quick reference for keyboard shortcuts, and don't hesitate to discover new ways to optimize your coding experience.\n",
    "\n",
    "### Additional Resources\n",
    "\n",
    "- Official Jupyter Notebook Documentation: [Jupyter Notebook Documentation](https://jupyter-notebook.readthedocs.io/en/stable/)\n",
    "- Python Documentation: [Python Documentation](https://docs.python.org/3/)\n",
    "- NumPy Documentation: [NumPy Documentation](https://numpy.org/doc/stable/)\n",
    "- Pandas Documentation: [Pandas Documentation](https://pandas.pydata.org/pandas-docs/stable/)\n",
    "\n",
    "### Feedback\n",
    "\n",
    "We hope this guide was helpful! If you have any feedback or suggestions for improvement, please feel free to reach out. Your feedback helps us improve our content to better serve your needs.\n",
    "\n",
    "Thank you for using this Jupyter Notebook guide. Happy coding!"
   ]
  }
 ],
 "metadata": {
  "kernelspec": {
   "display_name": "dsc80",
   "language": "python",
   "name": "python3"
  },
  "language_info": {
   "codemirror_mode": {
    "name": "ipython",
    "version": 3
   },
   "file_extension": ".py",
   "mimetype": "text/x-python",
   "name": "python",
   "nbconvert_exporter": "python",
   "pygments_lexer": "ipython3",
   "version": "3.8.18"
  }
 },
 "nbformat": 4,
 "nbformat_minor": 2
}
