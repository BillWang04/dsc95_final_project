{
 "cells": [
  {
   "cell_type": "markdown",
   "metadata": {},
   "source": [
    "# DSC 10 Python and Jupyter Notebook Keyboard Shortcuts\n",
    "\n",
    "## Introduction\n",
    "\n",
    "Welcome to this Jupyter Notebook guide on Python and Jupyter Notebook keyboard shortcuts. Keyboard shortcuts are an essential aspect of efficient coding and navigating Jupyter Notebooks. Whether you are a beginner or an experienced developer, mastering these shortcuts can significantly enhance your productivity.\n",
    "\n",
    "### Python Keyboard Shortcuts\n",
    "\n",
    "In the first section of this notebook, we will explore fundamental Python keyboard shortcuts that can streamline your coding workflow in various Python environments. These shortcuts include essential commands for code execution, navigation, and debugging.\n",
    "\n",
    "\n",
    "- **Get quotations around text**: Highlighting and press ‘ or “\n",
    "- **Get parentheses around text**: Highlight and press (\n",
    "- **Get brackets around text**: Highlight and press [\n",
    "- **Comment out**: `cmd /`\n",
    "- **Indent multiple lines at once**: `cmd ]` for left `cmd [` for right\n",
    "- **Highlight the same text multiple times**: Highlight and `cmd d` the amount of times you want to highlight\n",
    "- **Google doc commands** (`cmd v`, `cmd c`, `cmd x`, `cmd a`, shift-click)\n",
    "- Not a shortcut, but **find and replace in Jupyter** is helpful\n",
    "- **Copy line**: `cmd c`\n",
    "\n",
    "### Jupyter Notebook Keyboard Shortcuts\n",
    "\n",
    "The second section focuses on keyboard shortcuts specific to Jupyter Notebooks. Jupyter provides a powerful interactive computing environment, and learning its keyboard shortcuts can make your data exploration, analysis, and visualization tasks more fluid. From executing cells to managing your notebook's structure, these shortcuts are designed to boost your efficiency.\n",
    "\n",
    "**Command Mode**\n",
    "\n",
    "- **Go to edit a cell**: Enter\n",
    "- **Run current cell**: `shift enter`\n",
    "- **Create cell below**: `a`\n",
    "- **Create cell above**: `b`\n",
    "- **Delete cell**: `dd`\n",
    "- **Cut Current cell**: `x`\n",
    "- **Copy current cell**: `c`\n",
    "- **Paste cell below**: `v`\n",
    "- **Paste cell above**: `V`\n",
    "- `?` after a function such as numpy or pandas to see what the function does or how to use it (like documentation)\n",
    "\n",
    "**Edit Mode**\n",
    "\n",
    "- **Go to command mode**: Escape\n",
    "\n",
    "### Usage\n",
    "\n",
    "- Navigate through the notebook sections to find Python and Jupyter Notebook keyboard shortcuts.\n",
    "- Each section provides a detailed overview of the shortcuts along with examples.\n",
    "- Experiment with the shortcuts in your own coding and notebook environment to reinforce your learning.\n",
    "\n",
    "\n"
   ]
  },
  {
   "cell_type": "markdown",
   "metadata": {},
   "source": []
  }
 ],
 "metadata": {
  "language_info": {
   "name": "python"
  }
 },
 "nbformat": 4,
 "nbformat_minor": 2
}
