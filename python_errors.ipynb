{
 "cells": [
  {
   "cell_type": "markdown",
   "metadata": {},
   "source": [
    "# Common DSC10 Python Errors\n",
    "\n",
    "## Introduction\n",
    "\n",
    "In programming, encountering errors is inevitable. Understanding and resolving these errors is a crucial skill for any Python developer. This Jupyter Notebook serves as a guide to common Python errors, providing explanations and solutions to help you navigate and troubleshoot issues effectively.\n",
    "\n",
    "## Table of Contents\n",
    "\n",
    "1. [Syntax Errors](#syntax-errors)\n",
    "2. [Indentation Errors](#indentation-errors)\n",
    "3. [NameError](#nameerror)\n",
    "4. [TypeError](#typeerror)\n",
    "5. [IndexError](#indexerror)\n",
    "6. [KeyError](#keyerror)\n",
    "7. [AttributeError](#attributeerror)\n",
    "8. [ValueError](#valueerror)"
   ]
  },
  {
   "cell_type": "markdown",
   "metadata": {},
   "source": [
    "Run the following code to import libraries that are needed"
   ]
  },
  {
   "cell_type": "code",
   "execution_count": 9,
   "metadata": {},
   "outputs": [],
   "source": [
    "# Don't change this cell, but \n",
    "import numpy as np\n",
    "import pandas as bpd\n",
    "import io"
   ]
  },
  {
   "cell_type": "code",
   "execution_count": 10,
   "metadata": {},
   "outputs": [],
   "source": [
    "csv = '''\n",
    "breed,type,longevity,size\n",
    "Labrador,sporting,12.04,medium\n",
    "German,herding,9.73,large\n",
    "Beagle,hound,12.3,small\n",
    "Golden,sporting,12.04,medium\n",
    "Yorkshire,toy,12.6,small\n",
    "Bulldog,non-sporting,6.29,medium\n",
    "Boxer,working,8.81,medium\n",
    "Poodle,non-sporting,11.95,medium\n",
    "'''\n",
    "\n",
    "dogs = bpd.read_csv(io.StringIO(csv))"
   ]
  },
  {
   "cell_type": "markdown",
   "metadata": {
    "tags": [
     "#syntax-errors"
    ]
   },
   "source": [
    "### 1. Syntax Errors\n",
    "\n",
    "Syntax errors occur when the code violates the rules of the Python language. This is like the grammer of the code \n",
    "\n",
    "**How to Solve:** Verify that operations are performed on compatible data types to address TypeError.\n",
    "\n",
    "### Example:\n",
    "```python\n",
    "print(\"Hello, World!\""
   ]
  },
  {
   "cell_type": "code",
   "execution_count": 3,
   "metadata": {},
   "outputs": [
    {
     "ename": "SyntaxError",
     "evalue": "invalid syntax (1648832037.py, line 2)",
     "output_type": "error",
     "traceback": [
      "\u001b[0;36m  Cell \u001b[0;32mIn[3], line 2\u001b[0;36m\u001b[0m\n\u001b[0;31m    for i in range(N)\u001b[0m\n\u001b[0m                     ^\u001b[0m\n\u001b[0;31mSyntaxError\u001b[0m\u001b[0;31m:\u001b[0m invalid syntax\n"
     ]
    }
   ],
   "source": [
    "N = 100\n",
    "for i in range(N)\n",
    "    print('hello')"
   ]
  },
  {
   "cell_type": "code",
   "execution_count": 4,
   "metadata": {},
   "outputs": [
    {
     "ename": "SyntaxError",
     "evalue": "invalid syntax (3878997805.py, line 1)",
     "output_type": "error",
     "traceback": [
      "\u001b[0;36m  Cell \u001b[0;32mIn[4], line 1\u001b[0;36m\u001b[0m\n\u001b[0;31m    dogs[dogs.get('breed') = 'German']\u001b[0m\n\u001b[0m                           ^\u001b[0m\n\u001b[0;31mSyntaxError\u001b[0m\u001b[0;31m:\u001b[0m invalid syntax\n"
     ]
    }
   ],
   "source": [
    "dogs[dogs.get('breed') = 'German']"
   ]
  },
  {
   "cell_type": "markdown",
   "metadata": {},
   "source": []
  },
  {
   "cell_type": "markdown",
   "metadata": {
    "tags": [
     "#indentation-errors"
    ]
   },
   "source": [
    "\n",
    "### 2. Indentation Errors\n",
    "\n",
    "Indentation errors occur when there is incorrect indentation in the code. Python uses indentation to define blocks of code, and inconsistent indentation can lead to errors.\n",
    "\n",
    "**How to Solve:** Ensure consistent indentation within code blocks by using four spaces or tabs uniformly.\n",
    "\n",
    "### Example\n",
    "\n",
    "```python\n",
    "def example_function():\n",
    "print(\"Indented incorrectly\")\n"
   ]
  },
  {
   "cell_type": "code",
   "execution_count": 13,
   "metadata": {},
   "outputs": [
    {
     "ename": "IndentationError",
     "evalue": "expected an indented block (2800173048.py, line 3)",
     "output_type": "error",
     "traceback": [
      "\u001b[0;36m  Cell \u001b[0;32mIn[13], line 3\u001b[0;36m\u001b[0m\n\u001b[0;31m    print(\"Inside if statement\")\u001b[0m\n\u001b[0m    ^\u001b[0m\n\u001b[0;31mIndentationError\u001b[0m\u001b[0;31m:\u001b[0m expected an indented block\n"
     ]
    }
   ],
   "source": [
    "def another_function():\n",
    "    if True:\n",
    "    print(\"Inside if statement\")\n",
    "    else:\n",
    "        print(\"Inside else statement\")\n"
   ]
  },
  {
   "cell_type": "markdown",
   "metadata": {},
   "source": []
  },
  {
   "cell_type": "markdown",
   "metadata": {},
   "source": [
    "\n",
    "### 3. NameError\n",
    "\n",
    "NameError occurs when you try to use a variable or function that is not defined in the current scope.\n",
    "\n",
    "**How to Solve:** To resolve NameError, ensure the variable or function being used is properly defined or within the scope.\n",
    "\n",
    "### Example\n",
    "\n",
    "```python\n",
    "print(undefined_variable)\n"
   ]
  },
  {
   "cell_type": "code",
   "execution_count": 14,
   "metadata": {},
   "outputs": [
    {
     "ename": "NameError",
     "evalue": "name 'variable_not_defined' is not defined",
     "output_type": "error",
     "traceback": [
      "\u001b[0;31m---------------------------------------------------------------------------\u001b[0m",
      "\u001b[0;31mNameError\u001b[0m                                 Traceback (most recent call last)",
      "\u001b[1;32m/Users/billwang/Documents/DSC_Tutor/DSC10_FA23/Final_Project/python_errors.ipynb Cell 13\u001b[0m line \u001b[0;36m3\n\u001b[1;32m      <a href='vscode-notebook-cell:/Users/billwang/Documents/DSC_Tutor/DSC10_FA23/Final_Project/python_errors.ipynb#X45sZmlsZQ%3D%3D?line=0'>1</a>\u001b[0m \u001b[39mdef\u001b[39;00m \u001b[39mmy_function\u001b[39m():\n\u001b[1;32m      <a href='vscode-notebook-cell:/Users/billwang/Documents/DSC_Tutor/DSC10_FA23/Final_Project/python_errors.ipynb#X45sZmlsZQ%3D%3D?line=1'>2</a>\u001b[0m     \u001b[39mreturn\u001b[39;00m variable_not_defined \u001b[39m+\u001b[39m \u001b[39m5\u001b[39m\n\u001b[0;32m----> <a href='vscode-notebook-cell:/Users/billwang/Documents/DSC_Tutor/DSC10_FA23/Final_Project/python_errors.ipynb#X45sZmlsZQ%3D%3D?line=2'>3</a>\u001b[0m my_function()\n",
      "\u001b[1;32m/Users/billwang/Documents/DSC_Tutor/DSC10_FA23/Final_Project/python_errors.ipynb Cell 13\u001b[0m line \u001b[0;36m2\n\u001b[1;32m      <a href='vscode-notebook-cell:/Users/billwang/Documents/DSC_Tutor/DSC10_FA23/Final_Project/python_errors.ipynb#X45sZmlsZQ%3D%3D?line=0'>1</a>\u001b[0m \u001b[39mdef\u001b[39;00m \u001b[39mmy_function\u001b[39m():\n\u001b[0;32m----> <a href='vscode-notebook-cell:/Users/billwang/Documents/DSC_Tutor/DSC10_FA23/Final_Project/python_errors.ipynb#X45sZmlsZQ%3D%3D?line=1'>2</a>\u001b[0m     \u001b[39mreturn\u001b[39;00m variable_not_defined \u001b[39m+\u001b[39m \u001b[39m5\u001b[39m\n",
      "\u001b[0;31mNameError\u001b[0m: name 'variable_not_defined' is not defined"
     ]
    }
   ],
   "source": [
    "def my_function():\n",
    "    return variable_not_defined + 5\n",
    "my_function()"
   ]
  },
  {
   "cell_type": "markdown",
   "metadata": {},
   "source": []
  },
  {
   "cell_type": "markdown",
   "metadata": {},
   "source": [
    "\n",
    "### 4. TypeError\n",
    "\n",
    "TypeError occurs when there is an inappropriate use of a data type, such as trying to perform an operation on incompatible types.\n",
    "\n",
    "**How to Solve:** Verify that operations are performed on compatible data types to address TypeError.\n",
    "### Example\n",
    "\n",
    "```python\n",
    "result = \"5\" + 3\n"
   ]
  },
  {
   "cell_type": "code",
   "execution_count": 15,
   "metadata": {},
   "outputs": [
    {
     "ename": "TypeError",
     "evalue": "sum() can't sum strings [use ''.join(seq) instead]",
     "output_type": "error",
     "traceback": [
      "\u001b[0;31m---------------------------------------------------------------------------\u001b[0m",
      "\u001b[0;31mTypeError\u001b[0m                                 Traceback (most recent call last)",
      "\u001b[1;32m/Users/billwang/Documents/DSC_Tutor/DSC10_FA23/Final_Project/python_errors.ipynb Cell 16\u001b[0m line \u001b[0;36m2\n\u001b[1;32m      <a href='vscode-notebook-cell:/Users/billwang/Documents/DSC_Tutor/DSC10_FA23/Final_Project/python_errors.ipynb#X50sZmlsZQ%3D%3D?line=0'>1</a>\u001b[0m num_list \u001b[39m=\u001b[39m [\u001b[39m1\u001b[39m, \u001b[39m2\u001b[39m, \u001b[39m3\u001b[39m]\n\u001b[0;32m----> <a href='vscode-notebook-cell:/Users/billwang/Documents/DSC_Tutor/DSC10_FA23/Final_Project/python_errors.ipynb#X50sZmlsZQ%3D%3D?line=1'>2</a>\u001b[0m result \u001b[39m=\u001b[39m \u001b[39msum\u001b[39;49m(num_list, start\u001b[39m=\u001b[39;49m\u001b[39m'\u001b[39;49m\u001b[39m0\u001b[39;49m\u001b[39m'\u001b[39;49m)\n",
      "\u001b[0;31mTypeError\u001b[0m: sum() can't sum strings [use ''.join(seq) instead]"
     ]
    }
   ],
   "source": [
    "num_list = [1, 2, 3]\n",
    "result = sum(num_list, start='0')"
   ]
  },
  {
   "cell_type": "markdown",
   "metadata": {},
   "source": []
  },
  {
   "cell_type": "markdown",
   "metadata": {},
   "source": [
    "\n",
    "### 5. IndexError\n",
    "\n",
    "IndexError occurs when trying to access an index that does not exist in a sequence (e.g., list, tuple). This usually happens when people\n",
    "\n",
    "**How to Solve:** Ensure that the index being accessed falls within the range of the sequence to handle IndexError.\n",
    "\n",
    "### Example\n",
    "\n",
    "```python\n",
    "my_list = [1, 2, 3]\n",
    "print(my_list[4])\n",
    "#or\n",
    "for i in range(4):\n",
    "    print(my_list[i])\n"
   ]
  },
  {
   "cell_type": "markdown",
   "metadata": {},
   "source": []
  },
  {
   "cell_type": "code",
   "execution_count": 16,
   "metadata": {},
   "outputs": [
    {
     "ename": "IndexError",
     "evalue": "string index out of range",
     "output_type": "error",
     "traceback": [
      "\u001b[0;31m---------------------------------------------------------------------------\u001b[0m",
      "\u001b[0;31mIndexError\u001b[0m                                Traceback (most recent call last)",
      "\u001b[1;32m/Users/billwang/Documents/DSC_Tutor/DSC10_FA23/Final_Project/python_errors.ipynb Cell 20\u001b[0m line \u001b[0;36m2\n\u001b[1;32m      <a href='vscode-notebook-cell:/Users/billwang/Documents/DSC_Tutor/DSC10_FA23/Final_Project/python_errors.ipynb#X51sZmlsZQ%3D%3D?line=0'>1</a>\u001b[0m text \u001b[39m=\u001b[39m \u001b[39m\"\u001b[39m\u001b[39mPython\u001b[39m\u001b[39m\"\u001b[39m\n\u001b[0;32m----> <a href='vscode-notebook-cell:/Users/billwang/Documents/DSC_Tutor/DSC10_FA23/Final_Project/python_errors.ipynb#X51sZmlsZQ%3D%3D?line=1'>2</a>\u001b[0m \u001b[39mprint\u001b[39m(text[\u001b[39m10\u001b[39;49m])\n",
      "\u001b[0;31mIndexError\u001b[0m: string index out of range"
     ]
    }
   ],
   "source": [
    "text = \"Python\"\n",
    "print(text[10])"
   ]
  },
  {
   "cell_type": "markdown",
   "metadata": {},
   "source": []
  },
  {
   "cell_type": "markdown",
   "metadata": {},
   "source": [
    "\n",
    "### 6. KeyError\n",
    "\n",
    "KeyError occurs when trying to access a dictionary key that does not exist.\n",
    "\n",
    "**How to Solve:** To fix KeyError, verify that the accessed key exists within the dictionary.\n",
    "\n",
    "### Example\n",
    "\n",
    "```python\n",
    "my_dict = {'key': 'value'}\n",
    "print(my_dict['nonexistent_key'])\n"
   ]
  },
  {
   "cell_type": "code",
   "execution_count": 17,
   "metadata": {},
   "outputs": [
    {
     "ename": "KeyError",
     "evalue": "'address'",
     "output_type": "error",
     "traceback": [
      "\u001b[0;31m---------------------------------------------------------------------------\u001b[0m",
      "\u001b[0;31mKeyError\u001b[0m                                  Traceback (most recent call last)",
      "\u001b[1;32m/Users/billwang/Documents/DSC_Tutor/DSC10_FA23/Final_Project/python_errors.ipynb Cell 23\u001b[0m line \u001b[0;36m3\n\u001b[1;32m      <a href='vscode-notebook-cell:/Users/billwang/Documents/DSC_Tutor/DSC10_FA23/Final_Project/python_errors.ipynb#X53sZmlsZQ%3D%3D?line=0'>1</a>\u001b[0m my_dict \u001b[39m=\u001b[39m {\u001b[39m'\u001b[39m\u001b[39mname\u001b[39m\u001b[39m'\u001b[39m: \u001b[39m'\u001b[39m\u001b[39mAlice\u001b[39m\u001b[39m'\u001b[39m, \u001b[39m'\u001b[39m\u001b[39mage\u001b[39m\u001b[39m'\u001b[39m: \u001b[39m25\u001b[39m}\n\u001b[1;32m      <a href='vscode-notebook-cell:/Users/billwang/Documents/DSC_Tutor/DSC10_FA23/Final_Project/python_errors.ipynb#X53sZmlsZQ%3D%3D?line=1'>2</a>\u001b[0m \u001b[39mif\u001b[39;00m \u001b[39m'\u001b[39m\u001b[39maddress\u001b[39m\u001b[39m'\u001b[39m \u001b[39mnot\u001b[39;00m \u001b[39min\u001b[39;00m my_dict:\n\u001b[0;32m----> <a href='vscode-notebook-cell:/Users/billwang/Documents/DSC_Tutor/DSC10_FA23/Final_Project/python_errors.ipynb#X53sZmlsZQ%3D%3D?line=2'>3</a>\u001b[0m     \u001b[39mprint\u001b[39m(\u001b[39m\"\u001b[39m\u001b[39mAddress not found:\u001b[39m\u001b[39m\"\u001b[39m, my_dict[\u001b[39m'\u001b[39;49m\u001b[39maddress\u001b[39;49m\u001b[39m'\u001b[39;49m])\n",
      "\u001b[0;31mKeyError\u001b[0m: 'address'"
     ]
    }
   ],
   "source": [
    "my_dict = {'name': 'Alice', 'age': 25}\n",
    "if 'address' not in my_dict:\n",
    "    print(\"Address not found:\", my_dict['address'])"
   ]
  },
  {
   "cell_type": "markdown",
   "metadata": {},
   "source": []
  },
  {
   "cell_type": "markdown",
   "metadata": {},
   "source": [
    "## 7. AttributeError\n",
    "\n",
    "AttributeError occurs when trying to access an attribute that does not exist in an object.\n",
    "\n",
    "### Simple Example"
   ]
  },
  {
   "cell_type": "code",
   "execution_count": 6,
   "metadata": {},
   "outputs": [
    {
     "ename": "AttributeError",
     "evalue": "'list' object has no attribute 'upper'",
     "output_type": "error",
     "traceback": [
      "\u001b[0;31m---------------------------------------------------------------------------\u001b[0m",
      "\u001b[0;31mAttributeError\u001b[0m                            Traceback (most recent call last)",
      "\u001b[1;32m/Users/billwang/Documents/DSC_Tutor/DSC10_FA23/Final_Project/python_errors.ipynb Cell 20\u001b[0m line \u001b[0;36m2\n\u001b[1;32m      <a href='vscode-notebook-cell:/Users/billwang/Documents/DSC_Tutor/DSC10_FA23/Final_Project/python_errors.ipynb#X25sZmlsZQ%3D%3D?line=0'>1</a>\u001b[0m my_list \u001b[39m=\u001b[39m [\u001b[39m1\u001b[39m, \u001b[39m2\u001b[39m, \u001b[39m3\u001b[39m]\n\u001b[0;32m----> <a href='vscode-notebook-cell:/Users/billwang/Documents/DSC_Tutor/DSC10_FA23/Final_Project/python_errors.ipynb#X25sZmlsZQ%3D%3D?line=1'>2</a>\u001b[0m my_list\u001b[39m.\u001b[39;49mupper()\n",
      "\u001b[0;31mAttributeError\u001b[0m: 'list' object has no attribute 'upper'"
     ]
    }
   ],
   "source": [
    "my_list = [1, 2, 3]\n",
    "my_list.upper()"
   ]
  },
  {
   "cell_type": "markdown",
   "metadata": {},
   "source": [
    "### Complex Example: Multiple Functions and Cells\n",
    "\n",
    "In this example, the error comes from something that went wrong in the first function, even though the error seems like it's in the last cell. By running the last function sorted_doubled_reversed_incremented_array, our array [1,3,2], runs through the other 3 functions. By the end, it should be incremented (add 1 to each item), reversed, doubled (multiply each item by 2) and sorted. Although only the function increment_array() actually has a mistake, all cells will run up until the last, before finding the error.  <br>\n",
    "\n",
    "<u>**Notice how jupyter highlights the path that python takes through your code to the error**</u>. Starting from the last cell in this example, Python goes through each function, before finding an error in increment_array(). Traveling down, each highlighted line is a line of your (or someone else's) code that is being run. Follow the path of highlighted lines from top to bottom. <u>**The highlighted line at the bottom shows where the error actually happened.**</u> This is also where the reason behind the error is given (the most important part!)  \n",
    "\n",
    "An <u>_attribute error_</u> means an object doesn't have an attribute it needs to do what you're asking. Usually, this happens when a function doesn't work on a specific kind of variable or package. Here, np.add_one() is a madeup function, so it's telling you numpy has no attribute add_one(). See if you can fix this error without changing the intended result of the function(s)\n",
    "\n",
    "Making several functions to solve one problem is called making <u>_helper functions_</u>. This is a common strategy in keeping code organized, but still leads to messy debugging. <br>\n"
   ]
  },
  {
   "cell_type": "code",
   "execution_count": 7,
   "metadata": {},
   "outputs": [],
   "source": [
    "def increment_array(num_array):\n",
    "    # This is not the correct way to capitalize strings in a list!\n",
    "    num_array = np.add_one(num_array)\n",
    "    return num_array"
   ]
  },
  {
   "cell_type": "code",
   "execution_count": 8,
   "metadata": {},
   "outputs": [],
   "source": [
    "def reverse_incremented_array(num_array):\n",
    "    # Use previous function as a helper\n",
    "    num_array = increment_array(num_array)\n",
    "    # Reverse an array\n",
    "    num_array = np.flip(num_array)\n",
    "    return num_array"
   ]
  },
  {
   "cell_type": "code",
   "execution_count": 9,
   "metadata": {},
   "outputs": [],
   "source": [
    "def double_reversed_incremented_array(num_array):\n",
    "    # Use previous function as a helper\n",
    "    num_array = reverse_incremented_array(num_array)\n",
    "    # Double each number in array\n",
    "    num_array = 2*num_array\n",
    "    return num_array"
   ]
  },
  {
   "cell_type": "code",
   "execution_count": 10,
   "metadata": {},
   "outputs": [],
   "source": [
    "def sort_doubled_reversed_incremented_array(num_array):\n",
    "    # Use previous function as a helper\n",
    "    num_array = double_reversed_incremented_array(num_array)\n",
    "    # Sort an array\n",
    "    num_array = np.sort(num_array)\n",
    "    return num_array"
   ]
  },
  {
   "cell_type": "code",
   "execution_count": 12,
   "metadata": {},
   "outputs": [
    {
     "ename": "NameError",
     "evalue": "name 'np' is not defined",
     "output_type": "error",
     "traceback": [
      "\u001b[0;31m---------------------------------------------------------------------------\u001b[0m",
      "\u001b[0;31mNameError\u001b[0m                                 Traceback (most recent call last)",
      "\u001b[1;32m/Users/billwang/Documents/DSC_Tutor/DSC10_FA23/Final_Project/python_errors.ipynb Cell 26\u001b[0m line \u001b[0;36m3\n\u001b[1;32m      <a href='vscode-notebook-cell:/Users/billwang/Documents/DSC_Tutor/DSC10_FA23/Final_Project/python_errors.ipynb#X34sZmlsZQ%3D%3D?line=0'>1</a>\u001b[0m \u001b[39m# Uncomment line below to see error\u001b[39;00m\n\u001b[0;32m----> <a href='vscode-notebook-cell:/Users/billwang/Documents/DSC_Tutor/DSC10_FA23/Final_Project/python_errors.ipynb#X34sZmlsZQ%3D%3D?line=2'>3</a>\u001b[0m sort_doubled_reversed_incremented_array([\u001b[39m1\u001b[39;49m, \u001b[39m3\u001b[39;49m, \u001b[39m2\u001b[39;49m])\n",
      "\u001b[1;32m/Users/billwang/Documents/DSC_Tutor/DSC10_FA23/Final_Project/python_errors.ipynb Cell 26\u001b[0m line \u001b[0;36m3\n\u001b[1;32m      <a href='vscode-notebook-cell:/Users/billwang/Documents/DSC_Tutor/DSC10_FA23/Final_Project/python_errors.ipynb#X34sZmlsZQ%3D%3D?line=0'>1</a>\u001b[0m \u001b[39mdef\u001b[39;00m \u001b[39msort_doubled_reversed_incremented_array\u001b[39m(num_array):\n\u001b[1;32m      <a href='vscode-notebook-cell:/Users/billwang/Documents/DSC_Tutor/DSC10_FA23/Final_Project/python_errors.ipynb#X34sZmlsZQ%3D%3D?line=1'>2</a>\u001b[0m     \u001b[39m# Use previous function as a helper\u001b[39;00m\n\u001b[0;32m----> <a href='vscode-notebook-cell:/Users/billwang/Documents/DSC_Tutor/DSC10_FA23/Final_Project/python_errors.ipynb#X34sZmlsZQ%3D%3D?line=2'>3</a>\u001b[0m     num_array \u001b[39m=\u001b[39m double_reversed_incremented_array(num_array)\n\u001b[1;32m      <a href='vscode-notebook-cell:/Users/billwang/Documents/DSC_Tutor/DSC10_FA23/Final_Project/python_errors.ipynb#X34sZmlsZQ%3D%3D?line=3'>4</a>\u001b[0m     \u001b[39m# Sort an array\u001b[39;00m\n\u001b[1;32m      <a href='vscode-notebook-cell:/Users/billwang/Documents/DSC_Tutor/DSC10_FA23/Final_Project/python_errors.ipynb#X34sZmlsZQ%3D%3D?line=4'>5</a>\u001b[0m     num_array \u001b[39m=\u001b[39m np\u001b[39m.\u001b[39msort(num_array)\n",
      "\u001b[1;32m/Users/billwang/Documents/DSC_Tutor/DSC10_FA23/Final_Project/python_errors.ipynb Cell 26\u001b[0m line \u001b[0;36m3\n\u001b[1;32m      <a href='vscode-notebook-cell:/Users/billwang/Documents/DSC_Tutor/DSC10_FA23/Final_Project/python_errors.ipynb#X34sZmlsZQ%3D%3D?line=0'>1</a>\u001b[0m \u001b[39mdef\u001b[39;00m \u001b[39mdouble_reversed_incremented_array\u001b[39m(num_array):\n\u001b[1;32m      <a href='vscode-notebook-cell:/Users/billwang/Documents/DSC_Tutor/DSC10_FA23/Final_Project/python_errors.ipynb#X34sZmlsZQ%3D%3D?line=1'>2</a>\u001b[0m     \u001b[39m# Use previous function as a helper\u001b[39;00m\n\u001b[0;32m----> <a href='vscode-notebook-cell:/Users/billwang/Documents/DSC_Tutor/DSC10_FA23/Final_Project/python_errors.ipynb#X34sZmlsZQ%3D%3D?line=2'>3</a>\u001b[0m     num_array \u001b[39m=\u001b[39m reverse_incremented_array(num_array)\n\u001b[1;32m      <a href='vscode-notebook-cell:/Users/billwang/Documents/DSC_Tutor/DSC10_FA23/Final_Project/python_errors.ipynb#X34sZmlsZQ%3D%3D?line=3'>4</a>\u001b[0m     \u001b[39m# Double each number in array\u001b[39;00m\n\u001b[1;32m      <a href='vscode-notebook-cell:/Users/billwang/Documents/DSC_Tutor/DSC10_FA23/Final_Project/python_errors.ipynb#X34sZmlsZQ%3D%3D?line=4'>5</a>\u001b[0m     num_array \u001b[39m=\u001b[39m \u001b[39m2\u001b[39m\u001b[39m*\u001b[39mnum_array\n",
      "\u001b[1;32m/Users/billwang/Documents/DSC_Tutor/DSC10_FA23/Final_Project/python_errors.ipynb Cell 26\u001b[0m line \u001b[0;36m3\n\u001b[1;32m      <a href='vscode-notebook-cell:/Users/billwang/Documents/DSC_Tutor/DSC10_FA23/Final_Project/python_errors.ipynb#X34sZmlsZQ%3D%3D?line=0'>1</a>\u001b[0m \u001b[39mdef\u001b[39;00m \u001b[39mreverse_incremented_array\u001b[39m(num_array):\n\u001b[1;32m      <a href='vscode-notebook-cell:/Users/billwang/Documents/DSC_Tutor/DSC10_FA23/Final_Project/python_errors.ipynb#X34sZmlsZQ%3D%3D?line=1'>2</a>\u001b[0m     \u001b[39m# Use previous function as a helper\u001b[39;00m\n\u001b[0;32m----> <a href='vscode-notebook-cell:/Users/billwang/Documents/DSC_Tutor/DSC10_FA23/Final_Project/python_errors.ipynb#X34sZmlsZQ%3D%3D?line=2'>3</a>\u001b[0m     num_array \u001b[39m=\u001b[39m increment_array(num_array)\n\u001b[1;32m      <a href='vscode-notebook-cell:/Users/billwang/Documents/DSC_Tutor/DSC10_FA23/Final_Project/python_errors.ipynb#X34sZmlsZQ%3D%3D?line=3'>4</a>\u001b[0m     \u001b[39m# Reverse an array\u001b[39;00m\n\u001b[1;32m      <a href='vscode-notebook-cell:/Users/billwang/Documents/DSC_Tutor/DSC10_FA23/Final_Project/python_errors.ipynb#X34sZmlsZQ%3D%3D?line=4'>5</a>\u001b[0m     num_array \u001b[39m=\u001b[39m np\u001b[39m.\u001b[39mflip(num_array)\n",
      "\u001b[1;32m/Users/billwang/Documents/DSC_Tutor/DSC10_FA23/Final_Project/python_errors.ipynb Cell 26\u001b[0m line \u001b[0;36m3\n\u001b[1;32m      <a href='vscode-notebook-cell:/Users/billwang/Documents/DSC_Tutor/DSC10_FA23/Final_Project/python_errors.ipynb#X34sZmlsZQ%3D%3D?line=0'>1</a>\u001b[0m \u001b[39mdef\u001b[39;00m \u001b[39mincrement_array\u001b[39m(num_array):\n\u001b[1;32m      <a href='vscode-notebook-cell:/Users/billwang/Documents/DSC_Tutor/DSC10_FA23/Final_Project/python_errors.ipynb#X34sZmlsZQ%3D%3D?line=1'>2</a>\u001b[0m     \u001b[39m# This is not the correct way to capitalize strings in a list!\u001b[39;00m\n\u001b[0;32m----> <a href='vscode-notebook-cell:/Users/billwang/Documents/DSC_Tutor/DSC10_FA23/Final_Project/python_errors.ipynb#X34sZmlsZQ%3D%3D?line=2'>3</a>\u001b[0m     num_array \u001b[39m=\u001b[39m np\u001b[39m.\u001b[39madd_one(num_array)\n\u001b[1;32m      <a href='vscode-notebook-cell:/Users/billwang/Documents/DSC_Tutor/DSC10_FA23/Final_Project/python_errors.ipynb#X34sZmlsZQ%3D%3D?line=3'>4</a>\u001b[0m     \u001b[39mreturn\u001b[39;00m num_array\n",
      "\u001b[0;31mNameError\u001b[0m: name 'np' is not defined"
     ]
    }
   ],
   "source": [
    "# Uncomment line below to see error\n",
    "\n",
    "# sort_doubled_reversed_incremented_array([1, 3, 2])"
   ]
  },
  {
   "cell_type": "markdown",
   "metadata": {},
   "source": [
    "## 8. ValueError\n",
    "\n",
    "ValueError is raised when a function receives an argument of the correct type but an inappropriate value.\n",
    "\n",
    "### Simple Example"
   ]
  },
  {
   "cell_type": "code",
   "execution_count": 154,
   "metadata": {},
   "outputs": [
    {
     "ename": "ValueError",
     "evalue": "invalid literal for int() with base 10: 'abc'",
     "output_type": "error",
     "traceback": [
      "\u001b[0;31m---------------------------------------------------------------------------\u001b[0m",
      "\u001b[0;31mValueError\u001b[0m                                Traceback (most recent call last)",
      "Cell \u001b[0;32mIn[154], line 1\u001b[0m\n\u001b[0;32m----> 1\u001b[0m \u001b[38;5;28;43mint\u001b[39;49m\u001b[43m(\u001b[49m\u001b[38;5;124;43m\"\u001b[39;49m\u001b[38;5;124;43mabc\u001b[39;49m\u001b[38;5;124;43m\"\u001b[39;49m\u001b[43m)\u001b[49m\n",
      "\u001b[0;31mValueError\u001b[0m: invalid literal for int() with base 10: 'abc'"
     ]
    }
   ],
   "source": [
    "int(\"abc\")"
   ]
  },
  {
   "cell_type": "markdown",
   "metadata": {},
   "source": [
    "### Complex Example: Very Long Error Message\n",
    "\n",
    "Here's another tricky example. This code is trying to turn an array of lists into a dataframe. However, here two sets of brackets have been used instead of one. We have a couple of hints from the error message. **Look for where it says the type of error with a colon**</u> (i.e. ValueError: )\n",
    "1. <u>ValueError: Data must be 1-dimensional. <br> </u>\n",
    "A list inside an array is considered 2-dimensional, like a dataframe. The error message is telling you to make sure your code gives a 1-dimensional item, because right now it's not doing that.\n",
    "2. <u>ValueError: Cannot set a frame with no defined index and a value that cannot be converted to a Series. <br></u>\n",
    "This is another hint that Python can't turn your data into a DataFrame. \"Cannot set a frame\" means it's impossible to make a DataFrame. \"No defined index\" means your DataFrame needs an index but was never given one. \"value that cannot be converted to a Series\" means that the value (counterpart of index) can't be made into a column for your DataFrame."
   ]
  },
  {
   "cell_type": "code",
   "execution_count": 151,
   "metadata": {},
   "outputs": [],
   "source": [
    "# Uncomment line below to see error\n",
    "\n",
    "# arr = np.array([[1,2,3,4,5,6,7,8,9,10]])\n",
    "# df = bpd.DataFrame().assign(numbers = arr)\n",
    "# df"
   ]
  },
  {
   "cell_type": "markdown",
   "metadata": {},
   "source": [
    "## Conclusion\n",
    "\n",
    "Encountering errors in Python is a natural part of the programming process. This guide has covered several common errors that Python developers, especially those starting out, often encounter. Understanding these errors and their potential causes is a significant step toward writing more robust and error-free code.\n",
    "\n",
    "Remember, errors in Python serve as valuable feedback. They indicate areas for improvement and help in debugging and refining your code. With each error encountered and resolved, you gain valuable insights that contribute to your growth as a Python programmer.\n",
    "\n",
    "Key takeaways from this guide include:\n",
    "\n",
    "- **Syntax and Indentation Errors:** Ensure proper syntax and indentation in your code.\n",
    "- **NameError, TypeError, IndexError, KeyError, AttributeError, ValueError:** Understand the specific error messages and traceback information to pinpoint the cause of the issue.\n",
    "- **Use of Documentation and Resources:** Leverage Python documentation, forums, and online resources to troubleshoot and resolve errors efficiently.\n",
    "\n",
    "As you continue your Python journey, don't be discouraged by errors. Instead, embrace them as learning opportunities. With time and practice, you'll become adept at identifying and resolving errors, ultimately becoming a more proficient Python programmer.\n",
    "\n",
    "Happy coding and may your Python endeavors be error-free!"
   ]
  }
 ],
 "metadata": {
  "kernelspec": {
   "display_name": "Python 3 (ipykernel)",
   "language": "python",
   "name": "python3"
  },
  "language_info": {
   "codemirror_mode": {
    "name": "ipython",
    "version": 3
   },
   "file_extension": ".py",
   "mimetype": "text/x-python",
   "name": "python",
   "nbconvert_exporter": "python",
   "pygments_lexer": "ipython3",
   "version": "3.8.18"
  }
 },
 "nbformat": 4,
 "nbformat_minor": 2
}
