{
 "cells": [
  {
   "cell_type": "markdown",
   "metadata": {},
   "source": [
    "# Common DSC10 Python Errors\n",
    "\n",
    "## Introduction\n",
    "\n",
    "In programming, encountering errors is inevitable. Understanding and resolving these errors is a crucial skill for any Python developer. This Jupyter Notebook serves as a guide to common Python errors, providing explanations and solutions to help you navigate and troubleshoot issues effectively.\n",
    "\n",
    "## Table of Contents\n",
    "\n",
    "1. [Syntax Errors](#syntax-errors)\n",
    "2. [Indentation Errors](#indentation-errors)\n",
    "3. [NameError](#nameerror)\n",
    "4. [TypeError](#typeerror)\n",
    "5. [IndexError](#indexerror)\n",
    "6. [KeyError](#keyerror)\n",
    "7. [ValueError](#valueerror)\n",
    "8. [AttributeError](#attributeerror)"
   ]
  },
  {
   "cell_type": "markdown",
   "metadata": {},
   "source": [
    "Run the following code two import libraries that are needed"
   ]
  },
  {
   "cell_type": "code",
   "execution_count": 26,
   "metadata": {},
   "outputs": [],
   "source": [
    "import numpy as np\n",
    "import pandas as bpd"
   ]
  },
  {
   "cell_type": "markdown",
   "metadata": {
    "tags": [
     "#syntax-errors"
    ]
   },
   "source": [
    "### 1. Syntax Errors\n",
    "\n",
    "Syntax errors occur when the code violates the rules of the Python language. This is like the grammer of the code \n",
    "\n",
    "Example:\n",
    "```python\n",
    "print(\"Hello, World!\""
   ]
  },
  {
   "cell_type": "markdown",
   "metadata": {},
   "source": []
  },
  {
   "cell_type": "markdown",
   "metadata": {
    "tags": [
     "#indentation-errors"
    ]
   },
   "source": [
    "\n",
    "### 2. Indentation Errors\n",
    "\n",
    "Indentation errors occur when there is incorrect indentation in the code. Python uses indentation to define blocks of code, and inconsistent indentation can lead to errors.\n",
    "\n",
    "### Example\n",
    "\n",
    "```python\n",
    "def example_function():\n",
    "print(\"Indented incorrectly\")\n"
   ]
  },
  {
   "cell_type": "markdown",
   "metadata": {},
   "source": []
  },
  {
   "cell_type": "markdown",
   "metadata": {},
   "source": [
    "\n",
    "### 3. NameError\n",
    "\n",
    "NameError occurs when you try to use a variable or function that is not defined in the current scope.\n",
    "\n",
    "### Example\n",
    "\n",
    "```python\n",
    "print(undefined_variable)\n"
   ]
  },
  {
   "cell_type": "markdown",
   "metadata": {},
   "source": []
  },
  {
   "cell_type": "markdown",
   "metadata": {},
   "source": [
    "\n",
    "### 4. TypeError\n",
    "\n",
    "TypeError occurs when there is an inappropriate use of a data type, such as trying to perform an operation on incompatible types.\n",
    "\n",
    "### Example\n",
    "\n",
    "```python\n",
    "result = \"5\" + 3\n"
   ]
  },
  {
   "cell_type": "markdown",
   "metadata": {},
   "source": []
  },
  {
   "cell_type": "markdown",
   "metadata": {},
   "source": [
    "\n",
    "### 5. IndexError\n",
    "\n",
    "IndexError occurs when trying to access an index that does not exist in a sequence (e.g., list, tuple). This usually happens when people\n",
    "\n",
    "### Example\n",
    "\n",
    "```python\n",
    "my_list = [1, 2, 3]\n",
    "print(my_list[4])\n",
    "#or\n",
    "for i in range(4):\n",
    "    print(my_list[i])\n"
   ]
  },
  {
   "cell_type": "markdown",
   "metadata": {},
   "source": []
  },
  {
   "cell_type": "markdown",
   "metadata": {},
   "source": [
    "\n",
    "### 6. KeyError\n",
    "\n",
    "KeyError occurs when trying to access a dictionary key that does not exist.\n",
    "\n",
    "### Example\n",
    "\n",
    "```python\n",
    "my_dict = {'key': 'value'}\n",
    "print(my_dict['nonexistent_key'])\n"
   ]
  },
  {
   "cell_type": "markdown",
   "metadata": {},
   "source": []
  },
  {
   "cell_type": "markdown",
   "metadata": {},
   "source": [
    "## 7. AttributeError\n",
    "\n",
    "AttributeError occurs when trying to access an attribute that does not exist in an object.\n",
    "\n",
    "### Simple Example\n",
    "\n",
    "```python\n",
    "my_list = [1, 2, 3]\n",
    "my_list.upper()\n"
   ]
  },
  {
   "cell_type": "markdown",
   "metadata": {},
   "source": [
    "### Complex Example\n",
    "\n",
    "In this example, the error comes from something that went wrong in the first function, even though the error seems like it's in the last cell. By running the last function sorted_doubled_reversed_incremented_array, our array [1,3,2], runs through the other 3 functions. By the end, it should be incremented (add 1 to each item), reversed, doubled (multiply each item by 2) and sorted. Although only the function increment_array() actually has a mistake, all cells will run up until the last, before finding the error.  <br>\n",
    "\n",
    "<u>**Notice how jupyter highlights the path that python takes through your code to the error**</u>. Starting from the last cell in this example, Python goes through each function, before finding an error in increment_array(). Traveling down, each highlighted line is a line of your (or someone else's) code that is being run. Follow the path of highlighted lines from top to bottom. <u>**The highlighted line at the bottom is where the error actually happened.**</u> This is also where the reason behind the error is given (the most important part!)  \n",
    "\n",
    "An <u>_attribute error_</u> means an object doesn't have an attribute it needs to do what you're asking. Usually, this happens when a function doesn't work on a specific kind of variable or package. Here, np.add_one() is a madeup function, so it's telling you numpy has no attribute add_one(). See if you can fix this error without changing the intended result of the function(s)\n",
    "\n",
    "Making several functions to solve one problem is called making <u>_helper functions_</u>. This is a common strategy in keeping code organized, but still leads to messy debugging. <br>\n"
   ]
  },
  {
   "cell_type": "code",
   "execution_count": 126,
   "metadata": {},
   "outputs": [],
   "source": [
    "def increment_array(num_array):\n",
    "    # This is not the correct way to capitalize strings in a list!\n",
    "    num_array = np.add_one(num_array)\n",
    "    return num_array"
   ]
  },
  {
   "cell_type": "code",
   "execution_count": 127,
   "metadata": {},
   "outputs": [],
   "source": [
    "def reverse_incremented_array(num_array):\n",
    "    # Use previous function as a helper\n",
    "    num_array = increment_array(num_array)\n",
    "    # Reverse an array\n",
    "    num_array = np.flip(num_array)\n",
    "    return num_array"
   ]
  },
  {
   "cell_type": "code",
   "execution_count": 128,
   "metadata": {},
   "outputs": [],
   "source": [
    "def double_reversed_incremented_array(num_array):\n",
    "    # Use previous function as a helper\n",
    "    num_array = reverse_incremented_array(num_array)\n",
    "    # Double each number in array\n",
    "    num_array = 2*num_array\n",
    "    return num_array"
   ]
  },
  {
   "cell_type": "code",
   "execution_count": 129,
   "metadata": {},
   "outputs": [],
   "source": [
    "def sort_doubled_reversed_incremented_array(num_array):\n",
    "    # Use previous function as a helper\n",
    "    num_array = double_reversed_incremented_array(num_array)\n",
    "    # Sort an array\n",
    "    num_array = np.sort(num_array)\n",
    "    return num_array"
   ]
  },
  {
   "cell_type": "code",
   "execution_count": 152,
   "metadata": {},
   "outputs": [],
   "source": [
    "# sort_doubled_reversed_incremented_array([1, 3, 2])"
   ]
  },
  {
   "cell_type": "markdown",
   "metadata": {},
   "source": [
    "\n",
    "## 7. ValueError\n",
    "\n",
    "ValueError is raised when a function receives an argument of the correct type but an inappropriate value.\n",
    "\n",
    "### Simple Example\n",
    "\n",
    "```python\n",
    "int(\"abc\")\n"
   ]
  },
  {
   "cell_type": "markdown",
   "metadata": {},
   "source": [
    "Here's another tricky example. This code is trying to turn an array of lists into a dataframe. However, here two sets of brackets have been used instead of one. We have a couple of hints from the error message. **Look for where it says the type of error with a colon**</u> (i.e. ValueError: )\n",
    "1. <u>ValueError: Data must be 1-dimensional. <br> </u>\n",
    "A list inside an array is considered 2-dimensional, like a dataframe. The error message is telling you to make sure your code gives a 1-dimensional item, because right now it's not doing that.\n",
    "2. <u>ValueError: Cannot set a frame with no defined index and a value that cannot be converted to a Series. <br></u>\n",
    "This is another hint that Python can't turn your data into a DataFrame. \"Cannot set a frame\" means it's impossible to make a DataFrame. \"No defined index\" means your DataFrame needs an index but was never given one. \"value that cannot be converted to a Series\" means that the value (counterpart of index) can't be made into a column for your DataFrame."
   ]
  },
  {
   "cell_type": "code",
   "execution_count": 151,
   "metadata": {},
   "outputs": [],
   "source": [
    "# arr = np.array([[1,2,3,4,5,6,7,8,9,10]])\n",
    "# df = bpd.DataFrame().assign(numbers = arr)\n",
    "# df"
   ]
  }
 ],
 "metadata": {
  "kernelspec": {
   "display_name": "Python 3 (ipykernel)",
   "language": "python",
   "name": "python3"
  },
  "language_info": {
   "codemirror_mode": {
    "name": "ipython",
    "version": 3
   },
   "file_extension": ".py",
   "mimetype": "text/x-python",
   "name": "python",
   "nbconvert_exporter": "python",
   "pygments_lexer": "ipython3",
   "version": "3.8.18"
  }
 },
 "nbformat": 4,
 "nbformat_minor": 2
}
