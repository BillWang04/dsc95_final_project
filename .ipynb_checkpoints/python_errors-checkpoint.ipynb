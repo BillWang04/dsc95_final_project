{
 "cells": [
  {
   "cell_type": "markdown",
   "metadata": {},
   "source": [
    "# Common DSC10 Python Errors\n",
    "\n",
    "## Introduction\n",
    "\n",
    "In programming, encountering errors is inevitable. Understanding and resolving these errors is a crucial skill for any Python developer. This Jupyter Notebook serves as a guide to common Python errors, providing explanations and solutions to help you navigate and troubleshoot issues effectively.\n",
    "\n",
    "## Table of Contents\n",
    "\n",
    "1. [Syntax Errors](#syntax-errors)\n",
    "2. [Indentation Errors](#indentation-errors)\n",
    "3. [NameError](#nameerror)\n",
    "4. [TypeError](#typeerror)\n",
    "5. [IndexError](#indexerror)\n",
    "6. [KeyError](#keyerror)\n",
    "7. [ValueError](#valueerror)\n",
    "8. [AttributeError](#attributeerror)"
   ]
  },
  {
   "cell_type": "markdown",
   "metadata": {},
   "source": [
    "Run the following code two import libraries that are needed"
   ]
  },
  {
   "cell_type": "code",
   "execution_count": 26,
   "metadata": {},
   "outputs": [],
   "source": [
    "import numpy as np\n",
    "import pandas as bpd"
   ]
  },
  {
   "cell_type": "markdown",
   "metadata": {
    "tags": [
     "#syntax-errors"
    ]
   },
   "source": [
    "### 1. Syntax Errors\n",
    "\n",
    "Syntax errors occur when the code violates the rules of the Python language. This is like the grammer of the code \n",
    "\n",
    "Example:\n",
    "```python\n",
    "print(\"Hello, World!\""
   ]
  },
  {
   "cell_type": "markdown",
   "metadata": {},
   "source": []
  },
  {
   "cell_type": "markdown",
   "metadata": {
    "tags": [
     "#indentation-errors"
    ]
   },
   "source": [
    "\n",
    "### 2. Indentation Errors\n",
    "\n",
    "Indentation errors occur when there is incorrect indentation in the code. Python uses indentation to define blocks of code, and inconsistent indentation can lead to errors.\n",
    "\n",
    "### Example\n",
    "\n",
    "```python\n",
    "def example_function():\n",
    "print(\"Indented incorrectly\")\n"
   ]
  },
  {
   "cell_type": "markdown",
   "metadata": {},
   "source": []
  },
  {
   "cell_type": "markdown",
   "metadata": {},
   "source": [
    "\n",
    "### 3. NameError\n",
    "\n",
    "NameError occurs when you try to use a variable or function that is not defined in the current scope.\n",
    "\n",
    "### Example\n",
    "\n",
    "```python\n",
    "print(undefined_variable)\n"
   ]
  },
  {
   "cell_type": "markdown",
   "metadata": {},
   "source": []
  },
  {
   "cell_type": "markdown",
   "metadata": {},
   "source": [
    "\n",
    "### 4. TypeError\n",
    "\n",
    "TypeError occurs when there is an inappropriate use of a data type, such as trying to perform an operation on incompatible types.\n",
    "\n",
    "### Example\n",
    "\n",
    "```python\n",
    "result = \"5\" + 3\n"
   ]
  },
  {
   "cell_type": "markdown",
   "metadata": {},
   "source": []
  },
  {
   "cell_type": "markdown",
   "metadata": {},
   "source": [
    "\n",
    "### 5. IndexError\n",
    "\n",
    "IndexError occurs when trying to access an index that does not exist in a sequence (e.g., list, tuple). This usually happens when people\n",
    "\n",
    "### Example\n",
    "\n",
    "```python\n",
    "my_list = [1, 2, 3]\n",
    "print(my_list[4])\n",
    "#or\n",
    "for i in range(4):\n",
    "    print(my_list[i])\n"
   ]
  },
  {
   "cell_type": "markdown",
   "metadata": {},
   "source": []
  },
  {
   "cell_type": "markdown",
   "metadata": {},
   "source": [
    "\n",
    "### 6. KeyError\n",
    "\n",
    "KeyError occurs when trying to access a dictionary key that does not exist.\n",
    "\n",
    "### Example\n",
    "\n",
    "```python\n",
    "my_dict = {'key': 'value'}\n",
    "print(my_dict['nonexistent_key'])\n"
   ]
  },
  {
   "cell_type": "markdown",
   "metadata": {},
   "source": []
  },
  {
   "cell_type": "markdown",
   "metadata": {},
   "source": [
    "\n",
    "### 7. ValueError\n",
    "\n",
    "ValueError is raised when a function receives an argument of the correct type but an inappropriate value.\n",
    "\n",
    "### Example\n",
    "\n",
    "```python\n",
    "int(\"abc\")\n"
   ]
  },
  {
   "cell_type": "markdown",
   "metadata": {},
   "source": [
    "\n",
    "### 8. AttributeError\n",
    "\n",
    "AttributeError occurs when trying to access an attribute that does not exist in an object.\n",
    "\n",
    "### Example\n",
    "\n",
    "```python\n",
    "my_list = [1, 2, 3]\n",
    "my_list.upper()\n"
   ]
  },
  {
   "cell_type": "markdown",
   "metadata": {},
   "source": [
    "## Attribute Error Hidden by Multiple Cells/Functions\n",
    "\n",
    "In this example, the error comes from something that should be fixed first function, even though the error seems like it's in the last cell. By running the last function sorted_doubled_reversed_incremented_array, our array [1,3,2], runs through the other 3 functions. By the end, it should be incremented (add 1 to each item), reversed, doubled (multiply each item by 2) and sorted. Although only the function increment_array() actually has a mistake, all cells will run up until the last, before finding the error.  <br>\n",
    "\n",
    "Making several functions to solve one problem is called making _**helper functions**_. This is a common strategy in keeping code organized, but still leads to messy debugging. <br>\n",
    "\n",
    "Start reading at the bottom of the error message. **Notice how jupyter highlights the path that python takes through your code to the error**. It starts from the last cell in this example, going through each function, before finding an error in increment_array(). \n",
    "\n",
    "An _**attribute error**_ means an object doesn't have an attribute it needs to do what you're asking. Usually, this happens when a function doesn't work on a specific kind of variable or package. Here, np.add_one() is a madeup function, so it's telling you numpy has no attribute add_one().\n",
    "\n",
    "See if you can fix this error without changing the intended result of the function(s)\n"
   ]
  },
  {
   "cell_type": "code",
   "execution_count": 126,
   "metadata": {},
   "outputs": [],
   "source": [
    "def increment_array(num_array):\n",
    "    # This is not the correct way to capitalize strings in a list!\n",
    "    num_array = np.add_one(num_array)\n",
    "    return num_array"
   ]
  },
  {
   "cell_type": "code",
   "execution_count": 127,
   "metadata": {},
   "outputs": [],
   "source": [
    "def reverse_incremented_array(num_array):\n",
    "    # Use previous function as a helper\n",
    "    num_array = increment_array(num_array)\n",
    "    # Reverse an array\n",
    "    num_array = np.flip(num_array)\n",
    "    return num_array"
   ]
  },
  {
   "cell_type": "code",
   "execution_count": 128,
   "metadata": {},
   "outputs": [],
   "source": [
    "def double_reversed_incremented_array(num_array):\n",
    "    # Use previous function as a helper\n",
    "    num_array = reverse_incremented_array(num_array)\n",
    "    # Double each number in array\n",
    "    num_array = 2*num_array\n",
    "    return num_array"
   ]
  },
  {
   "cell_type": "code",
   "execution_count": 129,
   "metadata": {},
   "outputs": [],
   "source": [
    "def sort_doubled_reversed_incremented_array(num_array):\n",
    "    # Use previous function as a helper\n",
    "    num_array = double_reversed_incremented_array(num_array)\n",
    "    # Sort an array\n",
    "    num_array = np.sort(num_array)\n",
    "    return num_array"
   ]
  },
  {
   "cell_type": "code",
   "execution_count": 133,
   "metadata": {},
   "outputs": [
    {
     "ename": "AttributeError",
     "evalue": "module 'numpy' has no attribute 'add_one'",
     "output_type": "error",
     "traceback": [
      "\u001b[0;31m---------------------------------------------------------------------------\u001b[0m",
      "\u001b[0;31mAttributeError\u001b[0m                            Traceback (most recent call last)",
      "Cell \u001b[0;32mIn[133], line 1\u001b[0m\n\u001b[0;32m----> 1\u001b[0m \u001b[43msort_doubled_reversed_incremented_array\u001b[49m\u001b[43m(\u001b[49m\u001b[43m[\u001b[49m\u001b[38;5;241;43m1\u001b[39;49m\u001b[43m,\u001b[49m\u001b[43m \u001b[49m\u001b[38;5;241;43m3\u001b[39;49m\u001b[43m,\u001b[49m\u001b[43m \u001b[49m\u001b[38;5;241;43m2\u001b[39;49m\u001b[43m]\u001b[49m\u001b[43m)\u001b[49m\n",
      "Cell \u001b[0;32mIn[129], line 3\u001b[0m, in \u001b[0;36msort_doubled_reversed_incremented_array\u001b[0;34m(num_array)\u001b[0m\n\u001b[1;32m      1\u001b[0m \u001b[38;5;28;01mdef\u001b[39;00m \u001b[38;5;21msort_doubled_reversed_incremented_array\u001b[39m(num_array):\n\u001b[1;32m      2\u001b[0m     \u001b[38;5;66;03m# Use previous function as a helper\u001b[39;00m\n\u001b[0;32m----> 3\u001b[0m     num_array \u001b[38;5;241m=\u001b[39m \u001b[43mdouble_reversed_incremented_array\u001b[49m\u001b[43m(\u001b[49m\u001b[43mnum_array\u001b[49m\u001b[43m)\u001b[49m\n\u001b[1;32m      4\u001b[0m     \u001b[38;5;66;03m# Sort an array\u001b[39;00m\n\u001b[1;32m      5\u001b[0m     num_array \u001b[38;5;241m=\u001b[39m np\u001b[38;5;241m.\u001b[39msort(num_array)\n",
      "Cell \u001b[0;32mIn[128], line 3\u001b[0m, in \u001b[0;36mdouble_reversed_incremented_array\u001b[0;34m(num_array)\u001b[0m\n\u001b[1;32m      1\u001b[0m \u001b[38;5;28;01mdef\u001b[39;00m \u001b[38;5;21mdouble_reversed_incremented_array\u001b[39m(num_array):\n\u001b[1;32m      2\u001b[0m     \u001b[38;5;66;03m# Use previous function as a helper\u001b[39;00m\n\u001b[0;32m----> 3\u001b[0m     num_array \u001b[38;5;241m=\u001b[39m \u001b[43mreverse_incremented_array\u001b[49m\u001b[43m(\u001b[49m\u001b[43mnum_array\u001b[49m\u001b[43m)\u001b[49m\n\u001b[1;32m      4\u001b[0m     \u001b[38;5;66;03m# Double each number in array\u001b[39;00m\n\u001b[1;32m      5\u001b[0m     num_array \u001b[38;5;241m=\u001b[39m \u001b[38;5;241m2\u001b[39m\u001b[38;5;241m*\u001b[39mnum_array\n",
      "Cell \u001b[0;32mIn[127], line 3\u001b[0m, in \u001b[0;36mreverse_incremented_array\u001b[0;34m(num_array)\u001b[0m\n\u001b[1;32m      1\u001b[0m \u001b[38;5;28;01mdef\u001b[39;00m \u001b[38;5;21mreverse_incremented_array\u001b[39m(num_array):\n\u001b[1;32m      2\u001b[0m     \u001b[38;5;66;03m# Use previous function as a helper\u001b[39;00m\n\u001b[0;32m----> 3\u001b[0m     num_array \u001b[38;5;241m=\u001b[39m \u001b[43mincrement_array\u001b[49m\u001b[43m(\u001b[49m\u001b[43mnum_array\u001b[49m\u001b[43m)\u001b[49m\n\u001b[1;32m      4\u001b[0m     \u001b[38;5;66;03m# Reverse an array\u001b[39;00m\n\u001b[1;32m      5\u001b[0m     num_array \u001b[38;5;241m=\u001b[39m np\u001b[38;5;241m.\u001b[39mflip(num_array)\n",
      "Cell \u001b[0;32mIn[126], line 3\u001b[0m, in \u001b[0;36mincrement_array\u001b[0;34m(num_array)\u001b[0m\n\u001b[1;32m      1\u001b[0m \u001b[38;5;28;01mdef\u001b[39;00m \u001b[38;5;21mincrement_array\u001b[39m(num_array):\n\u001b[1;32m      2\u001b[0m     \u001b[38;5;66;03m# This is not the correct way to capitalize strings in a list!\u001b[39;00m\n\u001b[0;32m----> 3\u001b[0m     num_array \u001b[38;5;241m=\u001b[39m \u001b[43mnp\u001b[49m\u001b[38;5;241;43m.\u001b[39;49m\u001b[43madd_one\u001b[49m(num_array)\n\u001b[1;32m      4\u001b[0m     \u001b[38;5;28;01mreturn\u001b[39;00m num_array\n",
      "File \u001b[0;32m~/anaconda3/envs/dsc80/lib/python3.8/site-packages/numpy/__init__.py:313\u001b[0m, in \u001b[0;36m__getattr__\u001b[0;34m(attr)\u001b[0m\n\u001b[1;32m    310\u001b[0m     \u001b[38;5;28;01mfrom\u001b[39;00m \u001b[38;5;21;01m.\u001b[39;00m\u001b[38;5;21;01mtesting\u001b[39;00m \u001b[38;5;28;01mimport\u001b[39;00m Tester\n\u001b[1;32m    311\u001b[0m     \u001b[38;5;28;01mreturn\u001b[39;00m Tester\n\u001b[0;32m--> 313\u001b[0m \u001b[38;5;28;01mraise\u001b[39;00m \u001b[38;5;167;01mAttributeError\u001b[39;00m(\u001b[38;5;124m\"\u001b[39m\u001b[38;5;124mmodule \u001b[39m\u001b[38;5;132;01m{!r}\u001b[39;00m\u001b[38;5;124m has no attribute \u001b[39m\u001b[38;5;124m\"\u001b[39m\n\u001b[1;32m    314\u001b[0m                      \u001b[38;5;124m\"\u001b[39m\u001b[38;5;132;01m{!r}\u001b[39;00m\u001b[38;5;124m\"\u001b[39m\u001b[38;5;241m.\u001b[39mformat(\u001b[38;5;18m__name__\u001b[39m, attr))\n",
      "\u001b[0;31mAttributeError\u001b[0m: module 'numpy' has no attribute 'add_one'"
     ]
    }
   ],
   "source": [
    "sort_doubled_reversed_incremented_array([1, 3, 2])"
   ]
  }
 ],
 "metadata": {
  "kernelspec": {
   "display_name": "Python 3 (ipykernel)",
   "language": "python",
   "name": "python3"
  },
  "language_info": {
   "codemirror_mode": {
    "name": "ipython",
    "version": 3
   },
   "file_extension": ".py",
   "mimetype": "text/x-python",
   "name": "python",
   "nbconvert_exporter": "python",
   "pygments_lexer": "ipython3",
   "version": "3.8.18"
  }
 },
 "nbformat": 4,
 "nbformat_minor": 2
}
